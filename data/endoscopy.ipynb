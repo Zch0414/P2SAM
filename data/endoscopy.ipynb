{
 "cells": [
  {
   "cell_type": "code",
   "execution_count": 1,
   "id": "32744546-9409-4410-8a17-a7af48059c47",
   "metadata": {},
   "outputs": [],
   "source": [
    "import os\n",
    "import imageio.v2 as imageio\n",
    "import numpy as np\n",
    "\n",
    "from pathlib import Path"
   ]
  },
  {
   "cell_type": "code",
   "execution_count": 3,
   "id": "6d97094c-97b2-4d70-90c4-87a30ee9acba",
   "metadata": {},
   "outputs": [
    {
     "name": "stdout",
     "output_type": "stream",
     "text": [
      "mean [102.20527125  68.70382564  46.94900982]\n",
      "std [76.10290668 52.26579002 35.61231149]\n"
     ]
    }
   ],
   "source": [
    "# process cvc_clinicdb\n",
    "def get_file_list(path, suffix):\n",
    "    return sorted([p for p in Path(path).rglob(suffix)], key=lambda path: int(str(path).split('/')[-1].split('.')[0]))\n",
    "\n",
    "\n",
    "def process_video(flag, image_path, label_path):\n",
    "    if flag == 'image':\n",
    "        save_path = 'data/endoscopy_pro/cvc_clinicdb/image/'\n",
    "        image_path = image_path\n",
    "    elif flag == 'label':\n",
    "        save_path = 'data/endoscopy_pro/cvc_clinicdb/label/'\n",
    "        image_path = label_path\n",
    "    videos = [\n",
    "        [0, 25], [25, 50], [50, 67], [67, 78], [78, 103], [103, 126], [126, 151], [151, 177], [177, 199], [199, 205], \n",
    "        [205, 227], [227, 252], [252, 277], [277, 297], [297, 317], [317, 342], [342, 363], [363, 383],[383, 408], [408, 428], \n",
    "        [428, 447], [447, 466], [466, 478], [478, 503], [503, 528], [528, 546], [546, 571], [571, 591], [591, 612]\n",
    "    ]\n",
    "    imgs = np.zeros((1, 3))\n",
    "    for i, v in enumerate(videos):\n",
    "        video_save_path = save_path + 'video_{:04d}'.format(i + 1)\n",
    "        Path(video_save_path).mkdir(parents=True, exist_ok=True)\n",
    "        for j in range(v[0], v[1]):\n",
    "            path = image_path[j]\n",
    "            img = imageio.imread(path)\n",
    "            image_save_path = video_save_path + '/{}_{:04d}.png'.format(flag, j + 1)\n",
    "            imageio.imwrite(image_save_path, img)\n",
    "            if flag == 'image':\n",
    "                imgs = np.concatenate((imgs, img.reshape(-1, 3)), axis=0)\n",
    "    if flag == 'image':\n",
    "        imgs = imgs[1:, :]\n",
    "        print('mean', imgs.mean(0))\n",
    "        print('std', imgs.std(0))\n",
    "\n",
    "\n",
    "root_path = 'data/endoscopy_org/CVC-ClinicDB'\n",
    "image_path = get_file_list(os.path.join(root_path, 'Original'), '*.tif')\n",
    "label_path = get_file_list(os.path.join(root_path, 'Ground Truth'), '*.tif')        \n",
    "process_video('image', image_path, label_path)\n",
    "process_video('label', image_path, label_path)"
   ]
  },
  {
   "cell_type": "code",
   "execution_count": 3,
   "id": "80c9982f-1f8f-4282-8282-cad902ad4f3a",
   "metadata": {},
   "outputs": [
    {
     "name": "stdout",
     "output_type": "stream",
     "text": [
      "mean [143.53420689  83.56609188  62.20482868]\n",
      "std [80.37400863 56.58640012 48.40229159]\n"
     ]
    }
   ],
   "source": [
    "# process kvasir_seg\n",
    "def get_file_list(path, suffix):\n",
    "    return sorted([p for p in Path(path).rglob(suffix)])\n",
    "\n",
    "\n",
    "def process_image(flag, dataset, image_path, label_path):\n",
    "    if flag == 'image':\n",
    "        save_path = 'data/endoscopy_pro/{}/image/'.format(dataset)\n",
    "        path = image_path\n",
    "    elif flag == 'label':\n",
    "        save_path = 'data/endoscopy_pro/{}/label/'.format(dataset)\n",
    "        path = label_path\n",
    "    Path(save_path).mkdir(parents=True, exist_ok=True)\n",
    "    imgs = np.zeros((1, 3))\n",
    "    for i, p in enumerate(path):\n",
    "        img = imageio.imread(p)\n",
    "        image_save_path = save_path + '{}_{:04d}.png'.format(flag, i + 1)\n",
    "        imageio.imwrite(image_save_path, img)\n",
    "        if flag == 'image':\n",
    "            imgs = np.concatenate((imgs, img.reshape(-1, 3)), axis=0)\n",
    "    if flag == 'image':\n",
    "        imgs = imgs[1:, :]\n",
    "        print('mean', imgs.mean(0))\n",
    "        print('std', imgs.std(0))\n",
    "\n",
    "\n",
    "root_path = 'data/endoscopy_org/Kvasir-SEG'\n",
    "image_path = get_file_list(os.path.join(root_path, 'images'), '*.jpg')\n",
    "label_path = get_file_list(os.path.join(root_path, 'masks'), '*.jpg')        \n",
    "process_image('image', 'kvasir_seg', image_path, label_path)\n",
    "process_image('label', 'kvasir_seg', image_path, label_path)"
   ]
  }
 ],
 "metadata": {
  "kernelspec": {
   "display_name": "p2sam",
   "language": "python",
   "name": "p2sam"
  },
  "language_info": {
   "codemirror_mode": {
    "name": "ipython",
    "version": 3
   },
   "file_extension": ".py",
   "mimetype": "text/x-python",
   "name": "python",
   "nbconvert_exporter": "python",
   "pygments_lexer": "ipython3",
   "version": "3.7.16"
  }
 },
 "nbformat": 4,
 "nbformat_minor": 5
}
